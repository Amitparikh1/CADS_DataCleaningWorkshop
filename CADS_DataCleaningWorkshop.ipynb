{
  "nbformat": 4,
  "nbformat_minor": 0,
  "metadata": {
    "colab": {
      "name": "CADS_DataCleaningWorkshop.ipynb",
      "provenance": [],
      "authorship_tag": "ABX9TyN7xHJbE8ihwLh2EPb5ltR5",
      "include_colab_link": true
    },
    "kernelspec": {
      "name": "python3",
      "display_name": "Python 3"
    },
    "language_info": {
      "name": "python"
    }
  },
  "cells": [
    {
      "cell_type": "markdown",
      "metadata": {
        "id": "view-in-github",
        "colab_type": "text"
      },
      "source": [
        "<a href=\"https://colab.research.google.com/github/Amitparikh1/CADS_DataCleaningWorkshop/blob/main/CADS_DataCleaningWorkshop.ipynb\" target=\"_parent\"><img src=\"https://colab.research.google.com/assets/colab-badge.svg\" alt=\"Open In Colab\"/></a>"
      ]
    },
    {
      "cell_type": "markdown",
      "metadata": {
        "id": "VHH3BzpftzR5"
      },
      "source": [
        "Import Packages\n"
      ]
    },
    {
      "cell_type": "code",
      "metadata": {
        "id": "Kg0bVg8st0rP"
      },
      "source": [
        "import pandas as pd\n",
        "import numpy as np"
      ],
      "execution_count": 35,
      "outputs": []
    },
    {
      "cell_type": "markdown",
      "metadata": {
        "id": "XCCABQb6twvg"
      },
      "source": [
        "Read in the Data "
      ]
    },
    {
      "cell_type": "code",
      "metadata": {
        "colab": {
          "base_uri": "https://localhost:8080/",
          "height": 198
        },
        "id": "dF6NVtRMtrnP",
        "outputId": "f5280713-d418-4d9d-faad-58fc06a2b097"
      },
      "source": [
        "df_master = pd.read_csv(\"https://raw.githubusercontent.com/Amitparikh1/CADS_DataCleaningWorkshop/main/messy_data.csv\")\n",
        "df_master = df_master.drop(columns=\"Unnamed: 0\")\n",
        "df = df_master\n",
        "df.head()"
      ],
      "execution_count": 36,
      "outputs": [
        {
          "output_type": "execute_result",
          "data": {
            "text/html": [
              "<div>\n",
              "<style scoped>\n",
              "    .dataframe tbody tr th:only-of-type {\n",
              "        vertical-align: middle;\n",
              "    }\n",
              "\n",
              "    .dataframe tbody tr th {\n",
              "        vertical-align: top;\n",
              "    }\n",
              "\n",
              "    .dataframe thead th {\n",
              "        text-align: right;\n",
              "    }\n",
              "</style>\n",
              "<table border=\"1\" class=\"dataframe\">\n",
              "  <thead>\n",
              "    <tr style=\"text-align: right;\">\n",
              "      <th></th>\n",
              "      <th>id</th>\n",
              "      <th>university</th>\n",
              "      <th>grade</th>\n",
              "      <th>gender</th>\n",
              "      <th>exercise_type</th>\n",
              "      <th>exercise_amount</th>\n",
              "    </tr>\n",
              "  </thead>\n",
              "  <tbody>\n",
              "    <tr>\n",
              "      <th>0</th>\n",
              "      <td>0</td>\n",
              "      <td>UNC</td>\n",
              "      <td>Senior</td>\n",
              "      <td>Male</td>\n",
              "      <td>Indoor</td>\n",
              "      <td>2.5</td>\n",
              "    </tr>\n",
              "    <tr>\n",
              "      <th>1</th>\n",
              "      <td>0</td>\n",
              "      <td>UNC</td>\n",
              "      <td>Fourth-year</td>\n",
              "      <td>Male</td>\n",
              "      <td>Outdoor</td>\n",
              "      <td>3.0</td>\n",
              "    </tr>\n",
              "    <tr>\n",
              "      <th>2</th>\n",
              "      <td>1</td>\n",
              "      <td>UNC</td>\n",
              "      <td>Senior</td>\n",
              "      <td>Other</td>\n",
              "      <td>Indoor</td>\n",
              "      <td>2.5</td>\n",
              "    </tr>\n",
              "    <tr>\n",
              "      <th>3</th>\n",
              "      <td>1</td>\n",
              "      <td>UNC</td>\n",
              "      <td>Fourth-year</td>\n",
              "      <td>Other</td>\n",
              "      <td>Outdoor</td>\n",
              "      <td>2.5</td>\n",
              "    </tr>\n",
              "    <tr>\n",
              "      <th>4</th>\n",
              "      <td>2</td>\n",
              "      <td>UNC</td>\n",
              "      <td>Junior</td>\n",
              "      <td>Male</td>\n",
              "      <td>Indoor</td>\n",
              "      <td>2.0</td>\n",
              "    </tr>\n",
              "  </tbody>\n",
              "</table>\n",
              "</div>"
            ],
            "text/plain": [
              "   id university        grade gender exercise_type  exercise_amount\n",
              "0   0        UNC       Senior   Male        Indoor              2.5\n",
              "1   0        UNC  Fourth-year   Male       Outdoor              3.0\n",
              "2   1        UNC       Senior  Other        Indoor              2.5\n",
              "3   1        UNC  Fourth-year  Other       Outdoor              2.5\n",
              "4   2        UNC       Junior   Male        Indoor              2.0"
            ]
          },
          "metadata": {
            "tags": []
          },
          "execution_count": 36
        }
      ]
    },
    {
      "cell_type": "code",
      "metadata": {
        "id": "otwTcfBbtB22"
      },
      "source": [
        "### SCENARIO ### \n",
        "# Two professors are doing research about how often students exercise indoors and outdoors \n",
        "# The professors conduct two separate surveys, one asking about outdoor exercise and the other about indoor exercise\n",
        "# Now, they've combined their results and want to analyze the results "
      ],
      "execution_count": 37,
      "outputs": []
    },
    {
      "cell_type": "markdown",
      "metadata": {
        "id": "7Rsq0oIGGDTZ"
      },
      "source": [
        "Drop Unnecessary Columns"
      ]
    },
    {
      "cell_type": "code",
      "metadata": {
        "colab": {
          "base_uri": "https://localhost:8080/"
        },
        "id": "oJ-SQpSVbjwt",
        "outputId": "305596a1-c9b1-43db-ae77-83b68ba228f6"
      },
      "source": [
        "# Let's take a look at how many unique values are in each row \n",
        "print(\"Number of unique vals per column:\")\n",
        "for col in df.columns:\n",
        "  print(col + \": \" + str(len(df[col].unique())))"
      ],
      "execution_count": 38,
      "outputs": [
        {
          "output_type": "stream",
          "text": [
            "Number of unique vals per column:\n",
            "id: 500\n",
            "university: 1\n",
            "grade: 8\n",
            "gender: 3\n",
            "exercise_type: 2\n",
            "exercise_amount: 8\n"
          ],
          "name": "stdout"
        }
      ]
    },
    {
      "cell_type": "code",
      "metadata": {
        "id": "ARNrjBszeJQL"
      },
      "source": [
        "# What should we do about rows that only have 1 unique value? \n",
        "df = df.drop(columns=['university'])"
      ],
      "execution_count": 39,
      "outputs": []
    },
    {
      "cell_type": "markdown",
      "metadata": {
        "id": "yuogJGY4GIxY"
      },
      "source": [
        "Change categories"
      ]
    },
    {
      "cell_type": "code",
      "metadata": {
        "colab": {
          "base_uri": "https://localhost:8080/"
        },
        "id": "EEp-62hpeNSc",
        "outputId": "ff408faf-2d5a-4e41-f986-5de7565f2925"
      },
      "source": [
        "# What are the categories for 'gender'\n",
        "print(df['gender'].unique())"
      ],
      "execution_count": 40,
      "outputs": [
        {
          "output_type": "stream",
          "text": [
            "['Male' 'Other' 'Female']\n"
          ],
          "name": "stdout"
        }
      ]
    },
    {
      "cell_type": "code",
      "metadata": {
        "id": "rdmgo1c3iuzh"
      },
      "source": [
        "# Dummy Encoding\n",
        "# Want n - 1 variables where n is the number of categories - this will avoid multi-collinearity\n",
        "# We want to do this rather than just \"0,1,2\" in one category because a ranking doesn't make sense between the categories\n",
        "df['Male'] = [1 if x == 'Male' else 0 for x in df['gender']]\n",
        "df['Female'] = [1 if x == 'Female' else 0 for x in df['gender']]\n",
        "\n",
        "df = df.drop(columns=['gender'])\n",
        "df = df[['id', 'grade', 'Male', 'Female', 'exercise_type', 'exercise_amount']]"
      ],
      "execution_count": 41,
      "outputs": []
    },
    {
      "cell_type": "code",
      "metadata": {
        "colab": {
          "base_uri": "https://localhost:8080/",
          "height": 348
        },
        "id": "WkQcKuAxl0zZ",
        "outputId": "03e86baa-1fa6-4faf-ed3a-697d6566e769"
      },
      "source": [
        "df.head(10)"
      ],
      "execution_count": 42,
      "outputs": [
        {
          "output_type": "execute_result",
          "data": {
            "text/html": [
              "<div>\n",
              "<style scoped>\n",
              "    .dataframe tbody tr th:only-of-type {\n",
              "        vertical-align: middle;\n",
              "    }\n",
              "\n",
              "    .dataframe tbody tr th {\n",
              "        vertical-align: top;\n",
              "    }\n",
              "\n",
              "    .dataframe thead th {\n",
              "        text-align: right;\n",
              "    }\n",
              "</style>\n",
              "<table border=\"1\" class=\"dataframe\">\n",
              "  <thead>\n",
              "    <tr style=\"text-align: right;\">\n",
              "      <th></th>\n",
              "      <th>id</th>\n",
              "      <th>grade</th>\n",
              "      <th>Male</th>\n",
              "      <th>Female</th>\n",
              "      <th>exercise_type</th>\n",
              "      <th>exercise_amount</th>\n",
              "    </tr>\n",
              "  </thead>\n",
              "  <tbody>\n",
              "    <tr>\n",
              "      <th>0</th>\n",
              "      <td>0</td>\n",
              "      <td>Senior</td>\n",
              "      <td>1</td>\n",
              "      <td>0</td>\n",
              "      <td>Indoor</td>\n",
              "      <td>2.5</td>\n",
              "    </tr>\n",
              "    <tr>\n",
              "      <th>1</th>\n",
              "      <td>0</td>\n",
              "      <td>Fourth-year</td>\n",
              "      <td>1</td>\n",
              "      <td>0</td>\n",
              "      <td>Outdoor</td>\n",
              "      <td>3.0</td>\n",
              "    </tr>\n",
              "    <tr>\n",
              "      <th>2</th>\n",
              "      <td>1</td>\n",
              "      <td>Senior</td>\n",
              "      <td>0</td>\n",
              "      <td>0</td>\n",
              "      <td>Indoor</td>\n",
              "      <td>2.5</td>\n",
              "    </tr>\n",
              "    <tr>\n",
              "      <th>3</th>\n",
              "      <td>1</td>\n",
              "      <td>Fourth-year</td>\n",
              "      <td>0</td>\n",
              "      <td>0</td>\n",
              "      <td>Outdoor</td>\n",
              "      <td>2.5</td>\n",
              "    </tr>\n",
              "    <tr>\n",
              "      <th>4</th>\n",
              "      <td>2</td>\n",
              "      <td>Junior</td>\n",
              "      <td>1</td>\n",
              "      <td>0</td>\n",
              "      <td>Indoor</td>\n",
              "      <td>2.0</td>\n",
              "    </tr>\n",
              "    <tr>\n",
              "      <th>5</th>\n",
              "      <td>2</td>\n",
              "      <td>Third-year</td>\n",
              "      <td>1</td>\n",
              "      <td>0</td>\n",
              "      <td>Outdoor</td>\n",
              "      <td>2.0</td>\n",
              "    </tr>\n",
              "    <tr>\n",
              "      <th>6</th>\n",
              "      <td>3</td>\n",
              "      <td>Senior</td>\n",
              "      <td>1</td>\n",
              "      <td>0</td>\n",
              "      <td>Indoor</td>\n",
              "      <td>NaN</td>\n",
              "    </tr>\n",
              "    <tr>\n",
              "      <th>7</th>\n",
              "      <td>3</td>\n",
              "      <td>Senior</td>\n",
              "      <td>1</td>\n",
              "      <td>0</td>\n",
              "      <td>Outdoor</td>\n",
              "      <td>3.0</td>\n",
              "    </tr>\n",
              "    <tr>\n",
              "      <th>8</th>\n",
              "      <td>4</td>\n",
              "      <td>Sophomore</td>\n",
              "      <td>0</td>\n",
              "      <td>0</td>\n",
              "      <td>Indoor</td>\n",
              "      <td>2.5</td>\n",
              "    </tr>\n",
              "    <tr>\n",
              "      <th>9</th>\n",
              "      <td>4</td>\n",
              "      <td>Sophomore</td>\n",
              "      <td>0</td>\n",
              "      <td>0</td>\n",
              "      <td>Outdoor</td>\n",
              "      <td>NaN</td>\n",
              "    </tr>\n",
              "  </tbody>\n",
              "</table>\n",
              "</div>"
            ],
            "text/plain": [
              "   id        grade  Male  Female exercise_type  exercise_amount\n",
              "0   0       Senior     1       0        Indoor              2.5\n",
              "1   0  Fourth-year     1       0       Outdoor              3.0\n",
              "2   1       Senior     0       0        Indoor              2.5\n",
              "3   1  Fourth-year     0       0       Outdoor              2.5\n",
              "4   2       Junior     1       0        Indoor              2.0\n",
              "5   2   Third-year     1       0       Outdoor              2.0\n",
              "6   3       Senior     1       0        Indoor              NaN\n",
              "7   3       Senior     1       0       Outdoor              3.0\n",
              "8   4    Sophomore     0       0        Indoor              2.5\n",
              "9   4    Sophomore     0       0       Outdoor              NaN"
            ]
          },
          "metadata": {
            "tags": []
          },
          "execution_count": 42
        }
      ]
    },
    {
      "cell_type": "markdown",
      "metadata": {
        "id": "wocqbosXFKUy"
      },
      "source": [
        "Fix formatting of 'grade' column"
      ]
    },
    {
      "cell_type": "code",
      "metadata": {
        "id": "-Wv4_Wij1Um_"
      },
      "source": [
        "# Ordinal Encoding\n",
        "# Grade column has inconsistent formatting. Ex. \"Senior\" and \"Fourth-year\"\n",
        "# Grades have a ranking so we can number these from 1-4\n",
        "def format_grades(grade):\n",
        "  if grade == \"Senior\" or grade == \"Fourth-year\":\n",
        "    return 4\n",
        "  elif grade == \"Junior\" or grade == \"Third-year\":\n",
        "    return 3\n",
        "  elif grade == \"Sophomore\" or grade == \"Second-year\":\n",
        "    return 2\n",
        "  elif grade == \"Freshman\" or grade == \"First-year\":\n",
        "    return 1\n",
        "\n",
        "df['grade'] = df['grade'].apply(lambda x: format_grades(x))"
      ],
      "execution_count": 43,
      "outputs": []
    },
    {
      "cell_type": "code",
      "metadata": {
        "colab": {
          "base_uri": "https://localhost:8080/",
          "height": 198
        },
        "id": "mlCi1KPU14fz",
        "outputId": "fd61dfae-dc1b-4dc1-dc3a-325e0175843e"
      },
      "source": [
        "df.head()"
      ],
      "execution_count": 44,
      "outputs": [
        {
          "output_type": "execute_result",
          "data": {
            "text/html": [
              "<div>\n",
              "<style scoped>\n",
              "    .dataframe tbody tr th:only-of-type {\n",
              "        vertical-align: middle;\n",
              "    }\n",
              "\n",
              "    .dataframe tbody tr th {\n",
              "        vertical-align: top;\n",
              "    }\n",
              "\n",
              "    .dataframe thead th {\n",
              "        text-align: right;\n",
              "    }\n",
              "</style>\n",
              "<table border=\"1\" class=\"dataframe\">\n",
              "  <thead>\n",
              "    <tr style=\"text-align: right;\">\n",
              "      <th></th>\n",
              "      <th>id</th>\n",
              "      <th>grade</th>\n",
              "      <th>Male</th>\n",
              "      <th>Female</th>\n",
              "      <th>exercise_type</th>\n",
              "      <th>exercise_amount</th>\n",
              "    </tr>\n",
              "  </thead>\n",
              "  <tbody>\n",
              "    <tr>\n",
              "      <th>0</th>\n",
              "      <td>0</td>\n",
              "      <td>4</td>\n",
              "      <td>1</td>\n",
              "      <td>0</td>\n",
              "      <td>Indoor</td>\n",
              "      <td>2.5</td>\n",
              "    </tr>\n",
              "    <tr>\n",
              "      <th>1</th>\n",
              "      <td>0</td>\n",
              "      <td>4</td>\n",
              "      <td>1</td>\n",
              "      <td>0</td>\n",
              "      <td>Outdoor</td>\n",
              "      <td>3.0</td>\n",
              "    </tr>\n",
              "    <tr>\n",
              "      <th>2</th>\n",
              "      <td>1</td>\n",
              "      <td>4</td>\n",
              "      <td>0</td>\n",
              "      <td>0</td>\n",
              "      <td>Indoor</td>\n",
              "      <td>2.5</td>\n",
              "    </tr>\n",
              "    <tr>\n",
              "      <th>3</th>\n",
              "      <td>1</td>\n",
              "      <td>4</td>\n",
              "      <td>0</td>\n",
              "      <td>0</td>\n",
              "      <td>Outdoor</td>\n",
              "      <td>2.5</td>\n",
              "    </tr>\n",
              "    <tr>\n",
              "      <th>4</th>\n",
              "      <td>2</td>\n",
              "      <td>3</td>\n",
              "      <td>1</td>\n",
              "      <td>0</td>\n",
              "      <td>Indoor</td>\n",
              "      <td>2.0</td>\n",
              "    </tr>\n",
              "  </tbody>\n",
              "</table>\n",
              "</div>"
            ],
            "text/plain": [
              "   id  grade  Male  Female exercise_type  exercise_amount\n",
              "0   0      4     1       0        Indoor              2.5\n",
              "1   0      4     1       0       Outdoor              3.0\n",
              "2   1      4     0       0        Indoor              2.5\n",
              "3   1      4     0       0       Outdoor              2.5\n",
              "4   2      3     1       0        Indoor              2.0"
            ]
          },
          "metadata": {
            "tags": []
          },
          "execution_count": 44
        }
      ]
    },
    {
      "cell_type": "markdown",
      "metadata": {
        "id": "p4313ZdTzNgg"
      },
      "source": [
        "Tidy the data"
      ]
    },
    {
      "cell_type": "code",
      "metadata": {
        "id": "JHEmbDDjFJD6",
        "colab": {
          "base_uri": "https://localhost:8080/",
          "height": 228
        },
        "outputId": "781def59-8063-4da1-de4e-a16bf34c1926"
      },
      "source": [
        "df_temp = df[['id','exercise_type', 'exercise_amount']]\n",
        "df_tidy = df_temp.pivot(index=\"id\", columns=\"exercise_type\")\n",
        "df_tidy = df_tidy['exercise_amount'][['Indoor', 'Outdoor']]\n",
        "df_tidy.head()"
      ],
      "execution_count": 45,
      "outputs": [
        {
          "output_type": "execute_result",
          "data": {
            "text/html": [
              "<div>\n",
              "<style scoped>\n",
              "    .dataframe tbody tr th:only-of-type {\n",
              "        vertical-align: middle;\n",
              "    }\n",
              "\n",
              "    .dataframe tbody tr th {\n",
              "        vertical-align: top;\n",
              "    }\n",
              "\n",
              "    .dataframe thead th {\n",
              "        text-align: right;\n",
              "    }\n",
              "</style>\n",
              "<table border=\"1\" class=\"dataframe\">\n",
              "  <thead>\n",
              "    <tr style=\"text-align: right;\">\n",
              "      <th>exercise_type</th>\n",
              "      <th>Indoor</th>\n",
              "      <th>Outdoor</th>\n",
              "    </tr>\n",
              "    <tr>\n",
              "      <th>id</th>\n",
              "      <th></th>\n",
              "      <th></th>\n",
              "    </tr>\n",
              "  </thead>\n",
              "  <tbody>\n",
              "    <tr>\n",
              "      <th>0</th>\n",
              "      <td>2.5</td>\n",
              "      <td>3.0</td>\n",
              "    </tr>\n",
              "    <tr>\n",
              "      <th>1</th>\n",
              "      <td>2.5</td>\n",
              "      <td>2.5</td>\n",
              "    </tr>\n",
              "    <tr>\n",
              "      <th>2</th>\n",
              "      <td>2.0</td>\n",
              "      <td>2.0</td>\n",
              "    </tr>\n",
              "    <tr>\n",
              "      <th>3</th>\n",
              "      <td>NaN</td>\n",
              "      <td>3.0</td>\n",
              "    </tr>\n",
              "    <tr>\n",
              "      <th>4</th>\n",
              "      <td>2.5</td>\n",
              "      <td>NaN</td>\n",
              "    </tr>\n",
              "  </tbody>\n",
              "</table>\n",
              "</div>"
            ],
            "text/plain": [
              "exercise_type  Indoor  Outdoor\n",
              "id                            \n",
              "0                 2.5      3.0\n",
              "1                 2.5      2.5\n",
              "2                 2.0      2.0\n",
              "3                 NaN      3.0\n",
              "4                 2.5      NaN"
            ]
          },
          "metadata": {
            "tags": []
          },
          "execution_count": 45
        }
      ]
    },
    {
      "cell_type": "code",
      "metadata": {
        "colab": {
          "base_uri": "https://localhost:8080/",
          "height": 198
        },
        "id": "3bU2q2653xAV",
        "outputId": "2f20b44e-7c69-4dba-883a-790755f7ad5a"
      },
      "source": [
        "df_temp = df.drop(columns=['exercise_type', 'exercise_amount'])\n",
        "df_tidy = df_tidy.merge(right=df_temp, how='outer', on='id')\n",
        "df_tidy = df_tidy.drop_duplicates()\n",
        "df_tidy.head()"
      ],
      "execution_count": 46,
      "outputs": [
        {
          "output_type": "execute_result",
          "data": {
            "text/html": [
              "<div>\n",
              "<style scoped>\n",
              "    .dataframe tbody tr th:only-of-type {\n",
              "        vertical-align: middle;\n",
              "    }\n",
              "\n",
              "    .dataframe tbody tr th {\n",
              "        vertical-align: top;\n",
              "    }\n",
              "\n",
              "    .dataframe thead th {\n",
              "        text-align: right;\n",
              "    }\n",
              "</style>\n",
              "<table border=\"1\" class=\"dataframe\">\n",
              "  <thead>\n",
              "    <tr style=\"text-align: right;\">\n",
              "      <th></th>\n",
              "      <th>id</th>\n",
              "      <th>Indoor</th>\n",
              "      <th>Outdoor</th>\n",
              "      <th>grade</th>\n",
              "      <th>Male</th>\n",
              "      <th>Female</th>\n",
              "    </tr>\n",
              "  </thead>\n",
              "  <tbody>\n",
              "    <tr>\n",
              "      <th>0</th>\n",
              "      <td>0</td>\n",
              "      <td>2.5</td>\n",
              "      <td>3.0</td>\n",
              "      <td>4</td>\n",
              "      <td>1</td>\n",
              "      <td>0</td>\n",
              "    </tr>\n",
              "    <tr>\n",
              "      <th>2</th>\n",
              "      <td>1</td>\n",
              "      <td>2.5</td>\n",
              "      <td>2.5</td>\n",
              "      <td>4</td>\n",
              "      <td>0</td>\n",
              "      <td>0</td>\n",
              "    </tr>\n",
              "    <tr>\n",
              "      <th>4</th>\n",
              "      <td>2</td>\n",
              "      <td>2.0</td>\n",
              "      <td>2.0</td>\n",
              "      <td>3</td>\n",
              "      <td>1</td>\n",
              "      <td>0</td>\n",
              "    </tr>\n",
              "    <tr>\n",
              "      <th>6</th>\n",
              "      <td>3</td>\n",
              "      <td>NaN</td>\n",
              "      <td>3.0</td>\n",
              "      <td>4</td>\n",
              "      <td>1</td>\n",
              "      <td>0</td>\n",
              "    </tr>\n",
              "    <tr>\n",
              "      <th>8</th>\n",
              "      <td>4</td>\n",
              "      <td>2.5</td>\n",
              "      <td>NaN</td>\n",
              "      <td>2</td>\n",
              "      <td>0</td>\n",
              "      <td>0</td>\n",
              "    </tr>\n",
              "  </tbody>\n",
              "</table>\n",
              "</div>"
            ],
            "text/plain": [
              "   id  Indoor  Outdoor  grade  Male  Female\n",
              "0   0     2.5      3.0      4     1       0\n",
              "2   1     2.5      2.5      4     0       0\n",
              "4   2     2.0      2.0      3     1       0\n",
              "6   3     NaN      3.0      4     1       0\n",
              "8   4     2.5      NaN      2     0       0"
            ]
          },
          "metadata": {
            "tags": []
          },
          "execution_count": 46
        }
      ]
    },
    {
      "cell_type": "code",
      "metadata": {
        "colab": {
          "base_uri": "https://localhost:8080/",
          "height": 198
        },
        "id": "vw-Dr-Yuo9Zy",
        "outputId": "f32ffc00-2eb8-4aaf-c0c3-fc27a01972ac"
      },
      "source": [
        "df_tidy = df_tidy[['id', 'grade', 'Male', 'Female', 'Indoor', 'Outdoor']]\n",
        "df_tidy.head()"
      ],
      "execution_count": 47,
      "outputs": [
        {
          "output_type": "execute_result",
          "data": {
            "text/html": [
              "<div>\n",
              "<style scoped>\n",
              "    .dataframe tbody tr th:only-of-type {\n",
              "        vertical-align: middle;\n",
              "    }\n",
              "\n",
              "    .dataframe tbody tr th {\n",
              "        vertical-align: top;\n",
              "    }\n",
              "\n",
              "    .dataframe thead th {\n",
              "        text-align: right;\n",
              "    }\n",
              "</style>\n",
              "<table border=\"1\" class=\"dataframe\">\n",
              "  <thead>\n",
              "    <tr style=\"text-align: right;\">\n",
              "      <th></th>\n",
              "      <th>id</th>\n",
              "      <th>grade</th>\n",
              "      <th>Male</th>\n",
              "      <th>Female</th>\n",
              "      <th>Indoor</th>\n",
              "      <th>Outdoor</th>\n",
              "    </tr>\n",
              "  </thead>\n",
              "  <tbody>\n",
              "    <tr>\n",
              "      <th>0</th>\n",
              "      <td>0</td>\n",
              "      <td>4</td>\n",
              "      <td>1</td>\n",
              "      <td>0</td>\n",
              "      <td>2.5</td>\n",
              "      <td>3.0</td>\n",
              "    </tr>\n",
              "    <tr>\n",
              "      <th>2</th>\n",
              "      <td>1</td>\n",
              "      <td>4</td>\n",
              "      <td>0</td>\n",
              "      <td>0</td>\n",
              "      <td>2.5</td>\n",
              "      <td>2.5</td>\n",
              "    </tr>\n",
              "    <tr>\n",
              "      <th>4</th>\n",
              "      <td>2</td>\n",
              "      <td>3</td>\n",
              "      <td>1</td>\n",
              "      <td>0</td>\n",
              "      <td>2.0</td>\n",
              "      <td>2.0</td>\n",
              "    </tr>\n",
              "    <tr>\n",
              "      <th>6</th>\n",
              "      <td>3</td>\n",
              "      <td>4</td>\n",
              "      <td>1</td>\n",
              "      <td>0</td>\n",
              "      <td>NaN</td>\n",
              "      <td>3.0</td>\n",
              "    </tr>\n",
              "    <tr>\n",
              "      <th>8</th>\n",
              "      <td>4</td>\n",
              "      <td>2</td>\n",
              "      <td>0</td>\n",
              "      <td>0</td>\n",
              "      <td>2.5</td>\n",
              "      <td>NaN</td>\n",
              "    </tr>\n",
              "  </tbody>\n",
              "</table>\n",
              "</div>"
            ],
            "text/plain": [
              "   id  grade  Male  Female  Indoor  Outdoor\n",
              "0   0      4     1       0     2.5      3.0\n",
              "2   1      4     0       0     2.5      2.5\n",
              "4   2      3     1       0     2.0      2.0\n",
              "6   3      4     1       0     NaN      3.0\n",
              "8   4      2     0       0     2.5      NaN"
            ]
          },
          "metadata": {
            "tags": []
          },
          "execution_count": 47
        }
      ]
    },
    {
      "cell_type": "markdown",
      "metadata": {
        "id": "fVZ16clgFOFZ"
      },
      "source": [
        "Impute missing values in 'Indoor amount' and 'Outdoor amount'"
      ]
    },
    {
      "cell_type": "code",
      "metadata": {
        "colab": {
          "base_uri": "https://localhost:8080/"
        },
        "id": "MgXPUhTDn1HG",
        "outputId": "8943b5f7-ffd6-42b8-a514-1cc0581496f3"
      },
      "source": [
        "# We have lots of na values in 'Indoor' and 'Outdoor' Exercise amounts \n",
        "print(df_tidy.isna().sum())"
      ],
      "execution_count": 48,
      "outputs": [
        {
          "output_type": "stream",
          "text": [
            "id           0\n",
            "grade        0\n",
            "Male         0\n",
            "Female       0\n",
            "Indoor      86\n",
            "Outdoor    106\n",
            "dtype: int64\n"
          ],
          "name": "stdout"
        }
      ]
    },
    {
      "cell_type": "code",
      "metadata": {
        "colab": {
          "base_uri": "https://localhost:8080/",
          "height": 235
        },
        "id": "K8Ol8UpRtPIo",
        "outputId": "5a1d23b2-2367-43d1-fe52-d8509696ecd6"
      },
      "source": [
        "# Simple Method\n",
        "\n",
        "# Replace with Mean, Median, or Mode\n",
        "df_med_imputation = df_tidy\n",
        "indoor_med = df_tidy['Indoor'].median()\n",
        "df_med_imputation['Indoor'] = df_tidy['Indoor'].fillna(indoor_med)\n",
        "outdoor_med = df_tidy['Outdoor'].median()\n",
        "df_med_imputation['Outdoor'] = df_tidy['Outdoor'].fillna(outdoor_med)\n",
        "\n",
        "print(\"Indoor Median: \" + str(indoor_med))\n",
        "print(\"Outdoor Median: \" + str(outdoor_med))\n",
        "df_med_imputation.head()"
      ],
      "execution_count": 49,
      "outputs": [
        {
          "output_type": "stream",
          "text": [
            "Indoor Median: 1.5\n",
            "Outdoor Median: 1.5\n"
          ],
          "name": "stdout"
        },
        {
          "output_type": "execute_result",
          "data": {
            "text/html": [
              "<div>\n",
              "<style scoped>\n",
              "    .dataframe tbody tr th:only-of-type {\n",
              "        vertical-align: middle;\n",
              "    }\n",
              "\n",
              "    .dataframe tbody tr th {\n",
              "        vertical-align: top;\n",
              "    }\n",
              "\n",
              "    .dataframe thead th {\n",
              "        text-align: right;\n",
              "    }\n",
              "</style>\n",
              "<table border=\"1\" class=\"dataframe\">\n",
              "  <thead>\n",
              "    <tr style=\"text-align: right;\">\n",
              "      <th></th>\n",
              "      <th>id</th>\n",
              "      <th>grade</th>\n",
              "      <th>Male</th>\n",
              "      <th>Female</th>\n",
              "      <th>Indoor</th>\n",
              "      <th>Outdoor</th>\n",
              "    </tr>\n",
              "  </thead>\n",
              "  <tbody>\n",
              "    <tr>\n",
              "      <th>0</th>\n",
              "      <td>0</td>\n",
              "      <td>4</td>\n",
              "      <td>1</td>\n",
              "      <td>0</td>\n",
              "      <td>2.5</td>\n",
              "      <td>3.0</td>\n",
              "    </tr>\n",
              "    <tr>\n",
              "      <th>2</th>\n",
              "      <td>1</td>\n",
              "      <td>4</td>\n",
              "      <td>0</td>\n",
              "      <td>0</td>\n",
              "      <td>2.5</td>\n",
              "      <td>2.5</td>\n",
              "    </tr>\n",
              "    <tr>\n",
              "      <th>4</th>\n",
              "      <td>2</td>\n",
              "      <td>3</td>\n",
              "      <td>1</td>\n",
              "      <td>0</td>\n",
              "      <td>2.0</td>\n",
              "      <td>2.0</td>\n",
              "    </tr>\n",
              "    <tr>\n",
              "      <th>6</th>\n",
              "      <td>3</td>\n",
              "      <td>4</td>\n",
              "      <td>1</td>\n",
              "      <td>0</td>\n",
              "      <td>1.5</td>\n",
              "      <td>3.0</td>\n",
              "    </tr>\n",
              "    <tr>\n",
              "      <th>8</th>\n",
              "      <td>4</td>\n",
              "      <td>2</td>\n",
              "      <td>0</td>\n",
              "      <td>0</td>\n",
              "      <td>2.5</td>\n",
              "      <td>1.5</td>\n",
              "    </tr>\n",
              "  </tbody>\n",
              "</table>\n",
              "</div>"
            ],
            "text/plain": [
              "   id  grade  Male  Female  Indoor  Outdoor\n",
              "0   0      4     1       0     2.5      3.0\n",
              "2   1      4     0       0     2.5      2.5\n",
              "4   2      3     1       0     2.0      2.0\n",
              "6   3      4     1       0     1.5      3.0\n",
              "8   4      2     0       0     2.5      1.5"
            ]
          },
          "metadata": {
            "tags": []
          },
          "execution_count": 49
        }
      ]
    },
    {
      "cell_type": "code",
      "metadata": {
        "id": "AQxpH-WIw2Jl"
      },
      "source": [
        "# Machine Learning Imputation\n",
        "# Try this on your own! "
      ],
      "execution_count": null,
      "outputs": []
    }
  ]
}