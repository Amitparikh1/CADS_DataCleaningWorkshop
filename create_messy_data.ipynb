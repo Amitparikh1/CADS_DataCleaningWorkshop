{
  "nbformat": 4,
  "nbformat_minor": 0,
  "metadata": {
    "colab": {
      "name": "create_messy_data.ipynb",
      "provenance": [],
      "authorship_tag": "ABX9TyOuZ2wjxG9X+0to02hrKNxp",
      "include_colab_link": true
    },
    "kernelspec": {
      "name": "python3",
      "display_name": "Python 3"
    },
    "language_info": {
      "name": "python"
    }
  },
  "cells": [
    {
      "cell_type": "markdown",
      "metadata": {
        "id": "view-in-github",
        "colab_type": "text"
      },
      "source": [
        "<a href=\"https://colab.research.google.com/github/Amitparikh1/CADS_DataCleaningWorkshop/blob/main/create_messy_data.ipynb\" target=\"_parent\"><img src=\"https://colab.research.google.com/assets/colab-badge.svg\" alt=\"Open In Colab\"/></a>"
      ]
    },
    {
      "cell_type": "markdown",
      "metadata": {
        "id": "Rt83dKBLvzta"
      },
      "source": [
        "Imports"
      ]
    },
    {
      "cell_type": "code",
      "metadata": {
        "id": "Uf1uiEPgvmpr"
      },
      "source": [
        "import pandas as pd\n",
        "import random"
      ],
      "execution_count": 6,
      "outputs": []
    },
    {
      "cell_type": "markdown",
      "metadata": {
        "id": "FA8RfFw9xAbV"
      },
      "source": [
        "Create Dataframe"
      ]
    },
    {
      "cell_type": "code",
      "metadata": {
        "id": "APpJgJr1xDwv"
      },
      "source": [
        "# Possible data values\n",
        "grades = [\"Freshman\", \"Sophomore\", \"Junior\", \"Senior\"]\n",
        "genders = [\"Male\", \"Female\", \"Other\"]\n",
        "\n",
        "data_dict = {'id':[], 'university':[], 'grade':[], 'gender':[], 'exercise_type':[], 'exercise_amount':[]}\n",
        "# Populate Dataframe \n",
        "for i in range(0,1000):\n",
        "  # Have two rows per id so the data is untidy\n",
        "  data_dict['id'].append(int(i / 2))\n",
        "  # University will always be \"UNC\" so it doesn't provide any usefull information\n",
        "  data_dict['university'].append(\"UNC\")\n",
        "  # Assign a random grade and gender\n",
        "  data_dict['grade'].append(grades[random.randint(0,3)])\n",
        "  data_dict['gender'].append(genders[random.randint(0,2)])\n",
        "  # Alternate exercise type\n",
        "  if (i % 2 == 0):\n",
        "    data_dict['exercise_type'].append(\"Indoor\")\n",
        "  else:\n",
        "    data_dict['exercise_type'].append(\"Outdoor\")\n",
        "  # Random exercise amount in hours \n",
        "  data_dict['exercise_amount'].append(float(random.randint(0,6)) / 2)\n",
        "\n",
        "df = pd.DataFrame(data_dict)"
      ],
      "execution_count": 62,
      "outputs": []
    },
    {
      "cell_type": "markdown",
      "metadata": {
        "id": "66hHzbhzwHBS"
      },
      "source": [
        "Missing Values & Weird Formatting\n"
      ]
    },
    {
      "cell_type": "code",
      "metadata": {
        "id": "gC_UPzls6Tuk"
      },
      "source": [
        "grade_mapping = {\n",
        "                 'Freshman': 'First-year',\n",
        "                 'Sophomore': 'Second-year',\n",
        "                 'Junior': 'Third-year',\n",
        "                 'Senior': 'Fourth-year'\n",
        "                }\n",
        "\n",
        "def mess_formatting(grade):\n",
        "  rand_num = random.randint(0,10)\n",
        "  if rand_num < 3:\n",
        "    return grade_mapping[grade]\n",
        "  else:\n",
        "    return grade\n",
        "\n",
        "df['grade'] = df['grade'].apply(lambda x: mess_formatting(x) )"
      ],
      "execution_count": 63,
      "outputs": []
    },
    {
      "cell_type": "code",
      "metadata": {
        "id": "V4QOmUbg9igv"
      },
      "source": [
        "def add_missing_values(amount):\n",
        "  rand_num = random.randint(0,10)\n",
        "  if rand_num < 2:\n",
        "    return float(\"NaN\")\n",
        "  else:\n",
        "    return amount\n",
        "\n",
        "df['exercise_amount'] = df['exercise_amount'].apply(lambda x: add_missing_values(x))"
      ],
      "execution_count": 64,
      "outputs": []
    },
    {
      "cell_type": "markdown",
      "metadata": {
        "id": "uLu4gfWtC_sk"
      },
      "source": [
        "Save Messy Dataframe to CSV"
      ]
    },
    {
      "cell_type": "code",
      "metadata": {
        "id": "XrXZ8VuoDCN7"
      },
      "source": [
        "df.to_csv(\"messy_data.csv\")"
      ],
      "execution_count": 67,
      "outputs": []
    }
  ]
}